{
 "cells": [
  {
   "cell_type": "code",
   "execution_count": 803,
   "metadata": {},
   "outputs": [],
   "source": [
    "#Импорт всех необходимых библиотек\n",
    "from sklearn.ensemble import GradientBoostingRegressor\n",
    "from sklearn.ensemble import RandomForestRegressor\n",
    "from sklearn.linear_model import LinearRegression\n",
    "from sklearn.neighbors import KNeighborsRegressor\n",
    "from sklearn.tree import DecisionTreeRegressor\n",
    "from sklearn.model_selection import GridSearchCV\n",
    "from sklearn.model_selection import cross_val_score\n",
    "from sklearn.model_selection import train_test_split\n",
    "from sklearn.model_selection import StratifiedKFold\n",
    "from lightgbm import LGBMRegressor\n",
    "from sklearn.model_selection import KFold\n",
    "from scipy.stats import norm\n",
    "from scipy import stats\n",
    "import xgboost\n",
    "import catboost\n",
    "from sklearn.metrics import r2_score\n",
    "import pandas as pd\n",
    "import seaborn as sns\n",
    "%matplotlib inline\n",
    "import numpy as np\n",
    "import warnings\n",
    "warnings.filterwarnings('ignore')\n",
    "import re\n",
    "import ast"
   ]
  },
  {
   "cell_type": "code",
   "execution_count": 804,
   "metadata": {},
   "outputs": [
    {
     "name": "stdout",
     "output_type": "stream",
     "text": [
      "<class 'pandas.core.frame.DataFrame'>\n",
      "RangeIndex: 377185 entries, 0 to 377184\n",
      "Data columns (total 18 columns):\n",
      " #   Column        Non-Null Count   Dtype \n",
      "---  ------        --------------   ----- \n",
      " 0   status        337267 non-null  object\n",
      " 1   private pool  4181 non-null    object\n",
      " 2   propertyType  342452 non-null  object\n",
      " 3   street        377183 non-null  object\n",
      " 4   baths         270847 non-null  object\n",
      " 5   homeFacts     377185 non-null  object\n",
      " 6   fireplace     103115 non-null  object\n",
      " 7   city          377151 non-null  object\n",
      " 8   schools       377185 non-null  object\n",
      " 9   sqft          336608 non-null  object\n",
      " 10  zipcode       377185 non-null  object\n",
      " 11  beds          285903 non-null  object\n",
      " 12  state         377185 non-null  object\n",
      " 13  stories       226470 non-null  object\n",
      " 14  mls-id        24942 non-null   object\n",
      " 15  PrivatePool   40311 non-null   object\n",
      " 16  MlsId         310305 non-null  object\n",
      " 17  target        374704 non-null  object\n",
      "dtypes: object(18)\n",
      "memory usage: 51.8+ MB\n"
     ]
    }
   ],
   "source": [
    "data = pd.read_csv('data.csv')\n",
    "#Посмотрим на данные\n",
    "data.info()"
   ]
  },
  {
   "cell_type": "code",
   "execution_count": 805,
   "metadata": {},
   "outputs": [
    {
     "name": "stdout",
     "output_type": "stream",
     "text": [
      "Index(['status', 'private pool', 'propertyType', 'street', 'baths',\n",
      "       'homeFacts', 'fireplace', 'city', 'schools', 'sqft', 'zipcode', 'beds',\n",
      "       'state', 'stories', 'mls-id', 'PrivatePool', 'MlsId', 'target'],\n",
      "      dtype='object')\n",
      " \n",
      "Я сразу решил избавиться от некоторых столбов по следующим причинам:\n",
      "private pool - копия PrivatePool (к тому же больше пропущенных значений\n",
      "MlsId и mls-id столбцы для риэлторов. Они не нужны\n",
      "Из city, street и zipcode вряд ли получится что то получить\n"
     ]
    }
   ],
   "source": [
    "#Посмотрим столбцы\n",
    "print(data.columns)"
   ]
  },
  {
   "cell_type": "code",
   "execution_count": 806,
   "metadata": {},
   "outputs": [],
   "source": [
    "data = data.drop(['MlsId', 'mls-id', 'private pool', 'city', 'street', 'zipcode'], axis = 1)"
   ]
  },
  {
   "cell_type": "code",
   "execution_count": 807,
   "metadata": {},
   "outputs": [
    {
     "name": "stdout",
     "output_type": "stream",
     "text": [
      "               Total   Percent\n",
      "PrivatePool   336874  0.893127\n",
      "fireplace     274070  0.726620\n",
      "stories       150715  0.399578\n",
      "baths         106338  0.281925\n",
      "beds           91282  0.242009\n",
      "sqft           40577  0.107579\n",
      "status         39918  0.105831\n",
      "propertyType   34733  0.092085\n",
      "target          2481  0.006578\n",
      "state              0  0.000000\n",
      "schools            0  0.000000\n",
      "homeFacts          0  0.000000\n"
     ]
    }
   ],
   "source": [
    "#Процентное отношение пропущеных данных ко всем\n",
    "total = data.isnull().sum().sort_values(ascending=False)\n",
    "percent = (data.isnull().sum()/data.isnull().count()).sort_values(ascending=False)\n",
    "missing_data = pd.concat([total, percent], axis=1, keys=['Total', 'Percent'])\n",
    "print(missing_data)"
   ]
  },
  {
   "cell_type": "code",
   "execution_count": 808,
   "metadata": {},
   "outputs": [
    {
     "name": "stdout",
     "output_type": "stream",
     "text": [
      "[nan 'yes' 'Yes']\n",
      "В данном случае nan означает отсутствие бассейна\n",
      "Заменим yes на 1 а nan на 0\n"
     ]
    }
   ],
   "source": [
    "#Для начала, нужно максимально обработать все столбцы\n",
    "#Посмотрим на пример данных в PrivatePool\n",
    "print(data['PrivatePool'].unique())"
   ]
  },
  {
   "cell_type": "code",
   "execution_count": 809,
   "metadata": {},
   "outputs": [],
   "source": [
    "def func_pool(x):\n",
    "    if type(x) != int:\n",
    "        x = x.replace(x, '1')\n",
    "    return int(x)\n",
    "\n",
    "data['PrivatePool'] = data['PrivatePool'].fillna(0).apply(func_pool)"
   ]
  },
  {
   "cell_type": "code",
   "execution_count": 810,
   "metadata": {},
   "outputs": [
    {
     "name": "stdout",
     "output_type": "stream",
     "text": [
      "['Gas Logs' nan 'yes' ...\n",
      " 'Ceiling Fan, Fire Sprinkler System, Storage, Utility Connection'\n",
      " 'Fireplace-Gas, Fireplace-Wood, Patio, Walk-in Closet'\n",
      " 'Ceiling Fan, SMAPL, Utility Connection, Walk-In Closets']\n",
      " \n",
      "Аналогично бассейну\n"
     ]
    }
   ],
   "source": [
    "print(data['fireplace'].unique())"
   ]
  },
  {
   "cell_type": "code",
   "execution_count": 811,
   "metadata": {},
   "outputs": [],
   "source": [
    "def func_fire(x):\n",
    "    if type(x) != int:\n",
    "        x = x.replace(x, '1')\n",
    "    return int(x)\n",
    "\n",
    "data['fireplace'] = data['fireplace'].fillna(0).apply(func_fire)"
   ]
  },
  {
   "cell_type": "code",
   "execution_count": 812,
   "metadata": {},
   "outputs": [
    {
     "name": "stdout",
     "output_type": "stream",
     "text": [
      "[nan '2.0' '1.0' '3.0' 'One' '2' 'Multi/Split' '4.0' '0.0' '0' 'One Level'\n",
      " '1' '9.0' '3' '1 Level, Site Built' 'One Story' '3.00' '1.00' '14.0'\n",
      " 'Two' '3+' '1 Story' '5.0' '2 Story' 'Ranch/1 Story' 'Condominium'\n",
      " 'Stories/Levels' '7.0' '2 Level, Site Built' '2 Level' '15'\n",
      " '3 Level, Site Built' '4' '22.0' '2.00' '6.0' '1.0000' 'Lot' '3 Story'\n",
      " 'Three Or More' '1.5' '1 Level' 'Two Story or More'\n",
      " 'Site Built, Tri-Level' '54.0' '23' 'Farm House' '8.0' '16.0' '1.50' '18'\n",
      " '9' '21' '8' '12.0' 'Split Level w/ Sub' '11.0' '18.0' '1.5 Stories' '7'\n",
      " '11' 'Townhouse' '12' '21.0' '16' '1.5 Story/Basement' '28.0'\n",
      " 'Traditional' '2.5 Story' '17' '2.0000' '63.0' 'Acreage'\n",
      " 'Ground Level, One' '6' 'Split Foyer' '2 Stories' '27.0' '19.0' '2.50'\n",
      " '1.30' '2 Story/Basement' 'Split Level' '1.5 Story' '1.5 Level'\n",
      " '2 Or More Stories' '1 Level, Condo, Site Built' '15.0' '20' '1.5000'\n",
      " '4.00' '1 Story Basement' '5' 'Multi-Level' '17.0' 'Other Multi-unit'\n",
      " 'Ranch' 'Tri-Level' '13.0' '1 Story/Ranch' '51.0' '31' '19' 'High-Rise'\n",
      " 'Mid-Rise' 'Detached' '3 Stories' '4 Story' '22' '46.0' '2.5'\n",
      " 'One and One Half' ', 2' '1 1/2 Levels' '1.5 Level, Site Built' '70'\n",
      " '1 Story/F.R.O.G.' 'Commercial' '25.0' '3 Level, Townhouse' '3+ Story'\n",
      " '1.000' '33.0' '10' '3 Level, Site Built, Townhouse'\n",
      " 'Three Or More, Multi/Split' 'Fourplex' '95.0' '90.0'\n",
      " 'Manufactured Doublewide' '6+ Stories' '91' '35.0' '13' '2 Levels' '31.0'\n",
      " 'Mobile' '33' 'Cabin/Cottage' 'Three Or More Levels' '24' 'Victorian'\n",
      " '1.75' '38' 'One, Two' '1-2 Stories, 3-4 Stories' 'Site Built'\n",
      " 'Contemporary' '20.0' 'Garden' 'Site Built, Townhouse' 'Cape Cod' '26.0'\n",
      " '30' 'Dwelling Stories' '2 Level, Condo, Site Built' '36.0'\n",
      " 'Modular Home' 'Bi-Level' '26' '42' '45' 'One, Two, Multi/Split' '14'\n",
      " 'None' '3 - 5 Stories' 'Multi Level' ', 1' '29.0' '55.0' '3.0000' '78.0'\n",
      " '25' '56' 'Split Entry (Bi-Level)' '3 Level' '27' '36' '47.0'\n",
      " '3-4 Stories' '10.0' '47' '29' '1 Level, Non-Site Built' '40.0'\n",
      " 'Site Built, Split Foyer' '1 Story, Townhouse' '43.0' '80.0' '43' '23.0'\n",
      " '24.0' 'Total Floors in Bldg' '3 Story, Multi Level'\n",
      " 'Multi Level, Three or More' '34' 'Raised Ranch' '5.00' '1.7' '32'\n",
      " 'Unimproved Commercial' '57' '41.0' 'Condo' '45.0' '39' '64.0' '1.7000'\n",
      " 'Bungalow' '48' '1.5, 2' '2 Story, Tri Level' 'Two, Multi/Split'\n",
      " '3 Story, Tri Level' '57.0' '41' '2 Level, Split Foyer' '40' '28'\n",
      " '3 Levels' 'Other, Two, Multi/Split' '2 Level, Site Built, Townhouse'\n",
      " '32.0' '58.0' '58' '30.0' '52.0' 'Multi-Story' '42.0' '37.0'\n",
      " '1 Story, Split Level' '50' '30.00' '38.0' '44' '48.0' '16.00'\n",
      " 'Tri Level' 'Tri/Multi Level' '2 Story, Split Level' 'Co-op'\n",
      " 'Manufactured Singlewide' '2 Level, Condo' '3 Story/Basement'\n",
      " '1 Level, Site Built, Townhouse' '68.0' '60.0' 'Site Built, Split Level'\n",
      " '46' 'T3-Townhouse 3+ Stories' '77.0' 'Farm' '1 1/2 Story'\n",
      " '1 Leveland + Loft' '1.70' '2.5000' 'Duplex' '2.5 Story/Basement' '64'\n",
      " '70.0' 'Ground Level' '37' '78' '56.0' '1.500' '34.0' 'Two Stories'\n",
      " 'Bedroom - Split Plan' 'Manufactured Home, Non-Site Built' '1-2 Stories'\n",
      " '1 Level, Condo' '1.2' 'Condo, Site Built' 'One, Three Or More' '4.0000'\n",
      " 'Multi-Level, New Englander' '39.0'\n",
      " 'Townhouse-2 Story, T3-Townhouse 3+ Stories' '2.000' 'Sixplex' '75' '35'\n",
      " '2 Story or 2 Level' '66.0' '62.0' '6.00' 'Quad Level' 'Triplex'\n",
      " 'A Frame' '15.00' 'Tudor' '2 Story, Multi Level' 'Colonial' '82' ', 3'\n",
      " 'Hillside' 'Live/Work' 'Apartments' '3 Level, Site Built, Split Level'\n",
      " '3 Level, Condo, Site Built' '77' '95' 'Log Home' '4 Stories'\n",
      " '1.5 Level, Site Built, Tri-Level' '49.0' '1120.0' '1, 1'\n",
      " '1 Story, 2 Story' 'Loft' '52' '3.000' '1 Level, Townhouse' '66'\n",
      " 'Two, Three Or More' '2.20' 'Multi Level, Tri Level' '60'\n",
      " 'Cape, Other Style' '11.00' '1.3000' 'Craftsman' 'Split Foyer, Tri-Level'\n",
      " '2 Stories, Tear Down' 'Log' '3.5' 'Condo 5+ Stories' 'Federal' '1002.0'\n",
      " '7.00' '1 Story, Hillside' '2 Stories, Townhouse'\n",
      " '2 Level, Site Built, Split Foyer' '96.0' 'Multi/Split, Two'\n",
      " 'Ground Level, Two' 'Chalet' '80' '1 Level, 2 Level' '1 Level, 1.5 Level'\n",
      " 'Ground Level, Split Level, Two' '1 Level, Split Foyer'\n",
      " '1 Story, Multi Level' 'One and One Half, Three Or More'\n",
      " '3 Level, Site Built, Tri-Level' 'Double Wide' 'Patio Home' '50.0' '65.0']\n"
     ]
    }
   ],
   "source": [
    "#Рассмотрим stories\n",
    "print(data['stories'].unique())"
   ]
  },
  {
   "cell_type": "code",
   "execution_count": 813,
   "metadata": {},
   "outputs": [],
   "source": [
    "#Видно, что формат данных в этом столбце очень разнообразен\n",
    "#Вытащим из строк первое попавшееся число\n",
    "#будем считать, что дом одноэтажный если этаж не дан\n",
    "\n",
    "def func_stor(x):\n",
    "    if type(x) != int:\n",
    "        x = re.findall(r'\\d+',x)\n",
    "        if (len(x) > 1):\n",
    "            x = x[0]\n",
    "        elif len(x) == 1:\n",
    "            x = x[0]\n",
    "        if not x:\n",
    "            return 1\n",
    "    return int(x)\n",
    "\n",
    "data['stories'] = data['stories'].fillna(1).apply(func_stor)\n",
    "data['stories'] = pd.to_numeric(data['stories'])"
   ]
  },
  {
   "cell_type": "code",
   "execution_count": 814,
   "metadata": {},
   "outputs": [
    {
     "name": "stdout",
     "output_type": "stream",
     "text": [
      "['3.5' '3 Baths' '2 Baths' '8 Baths' nan '2' '3' 'Bathrooms: 2' '1,750'\n",
      " '4 Baths' '2 ba' 'Bathrooms: 5' '1,000' '7 Baths' '2.0' '3.0'\n",
      " 'Bathrooms: 1' '4.0' '2.1 Baths' '2.5 Baths' '1' 'Bathrooms: 3' '4.5'\n",
      " '6 Baths' 'Bathrooms: 4' '3 ba' '5' '2,500' '5.5 Baths' '1.0' '5 Baths'\n",
      " '1.5' '4' '~' '2.5' '4,000' '3.5 Baths' '2,000' '3,000' '8.0' '1 ba'\n",
      " '3.5 ba' '0' '5.0' '1,500' '7.0' '1,250' '9 Baths' '2,250' '6.0'\n",
      " '12 Baths' '5.5' '3,500' '1.5 Baths' '2,750' 'Bathrooms: 6' '4.5 Baths'\n",
      " '750' '5.5+' '6' '10 Baths' '6 ba' 'Bathrooms: 19' '10.0' '1.5 ba' '4 ba'\n",
      " '12 ba' '2.5+' '8' '7.5+' 'Bathrooms: 10' '0 / 0' 'Sq. Ft. ' '5 ba'\n",
      " '4.5+' '18 Baths' '-- baths' 'Bathrooms: 7' '7' '18' '3.5+' '1.5+'\n",
      " '11 Baths' '5,000' '1.75 Baths' '9' '12.0' '1.1 Baths' '6.5'\n",
      " 'Bathrooms: 8' '10' '19 Baths' 'Bathrooms: 9' '16 Baths' '13 Baths'\n",
      " 'Bathrooms: 13' '14' '9.0' '8.5+' '7 ba' '12' '2.5 ba' 'Bathrooms: 12'\n",
      " '17' 'Bathrooms: 241' '16.0' '10.5+' '8 ba' '6.5+' '6.5 Baths' '14 Baths'\n",
      " '7,500+' '7.5' '11.0' '20 Baths' '11' '40 Baths' '1-0 / 1-0 / 1' '14.0'\n",
      " '1.75 ba' '2.75 Baths' '24 Baths' '22.0' '0.00' '2.25 Baths' '3.1 Baths'\n",
      " '3.25 Baths' '—' '13' '4.5 ba' '22' '9 ba' '32' '7.5 Baths' '18.0'\n",
      " 'Bathrooms: 11' '17 Baths' '0.0' 'Bathrooms: 27' '26' '20.0' '9.5' '8.5'\n",
      " '26 Baths' '2 baths' '15 Baths' '16' '35' '3.75 Baths' '29 Baths'\n",
      " '22 Baths' 'Bathrooms: 18' '116 / 116 / 116' '40' '21 Baths' '5.2 Baths'\n",
      " '29' '8.5 Baths' '14.5+' '76 Baths' '13.0' 'Bathrooms: SemiMod'\n",
      " '3-1 / 2-2' '32 Baths' '2.25 ba' '15.0' '23 Baths' '3.3 Baths' '43 Baths'\n",
      " '21' '1.25 Baths' '34 Baths' '20' '2.2 Baths' '1 / 1 / 1 / 1' '55.0'\n",
      " '3 baths' '25 Baths' '12.5+' 'Bathrooms: 24' '44 Baths' '0.5 Baths'\n",
      " '4.25 Baths' '4.75 Baths' '0.75 Baths' '4.1 Baths' '15' 'Bathrooms: 14'\n",
      " '5.25 Baths' '10 ba' '41.0' '1.8 Baths' 'Bathrooms: 16' '10.5'\n",
      " 'Bathrooms: 21' '9.5+' '36 Baths' '30 Baths' '27' '10.5 Baths' '12.5'\n",
      " '24.0' '23.0' '24' '28 Baths' '2.8 Baths' '34.0' '64.0' '11.5+' '13 ba'\n",
      " '39 Baths' '30' '30.0' '17.0' '42 Baths' '5.5 ba' '16 ba' '11.5 Baths'\n",
      " '27 Baths' '11 ba' '3.2 Baths' '2-1 / 2-1 / 1-1 / 1-1' '23' '60 Baths'\n",
      " '1 / 1-0 / 1-0 / 1-0' '6.75 Baths' '1-2 Baths' 'Bathrooms: 15' '68 Baths'\n",
      " '44.0']\n"
     ]
    }
   ],
   "source": [
    "#Взглянем на baths\n",
    "print(data['baths'].unique())"
   ]
  },
  {
   "cell_type": "code",
   "execution_count": 815,
   "metadata": {},
   "outputs": [],
   "source": [
    "#Аналогично stories\n",
    "def func_bath(x):\n",
    "    if type(x) != int:\n",
    "        x = re.findall(r'\\d+',x)\n",
    "        if (len(x) > 1):\n",
    "            x = x[0]\n",
    "        elif len(x) == 1:\n",
    "            x = x[0]\n",
    "        if not x:\n",
    "            return 1\n",
    "    return int(x)\n",
    "\n",
    "data['baths'] = data['baths'].fillna(1).apply(func_bath)"
   ]
  },
  {
   "cell_type": "code",
   "execution_count": 816,
   "metadata": {},
   "outputs": [
    {
     "name": "stdout",
     "output_type": "stream",
     "text": [
      "['4' '3 Beds' '5 Beds' ... '9,565 sqft' '1.74 acres' '8,479 sqft']\n"
     ]
    }
   ],
   "source": [
    "#Взглянем на beds\n",
    "print(data['beds'].unique())"
   ]
  },
  {
   "cell_type": "code",
   "execution_count": 817,
   "metadata": {},
   "outputs": [],
   "source": [
    "#Аналогично stories и baths\n",
    "def func_bed(x):\n",
    "    if type(x) != int:\n",
    "        x = re.findall(r'\\d+',x)\n",
    "        if (len(x) > 1):\n",
    "            x = x[0]\n",
    "        elif len(x) == 1:\n",
    "            x = x[0]\n",
    "        if not x:\n",
    "            return 1\n",
    "    return int(x)\n",
    "\n",
    "data['beds'] = data['beds'].fillna(1).apply(func_bed)"
   ]
  },
  {
   "cell_type": "code",
   "execution_count": 818,
   "metadata": {},
   "outputs": [
    {
     "name": "stdout",
     "output_type": "stream",
     "text": [
      "['Active' 'for sale' nan 'New construction' 'New' 'For sale' 'Pending' 'P'\n",
      " 'Active/Contingent' 'Pre-foreclosure / auction' ' / auction'\n",
      " 'Under Contract' 'Under Contract   Showing' 'Pre-foreclosure'\n",
      " 'Under Contract Backups' 'foreclosure' 'Active Under Contract'\n",
      " 'Foreclosed' 'Option Pending' 'Under Contract Show' 'for rent' 'Auction'\n",
      " 'A Active' 'Contingent' 'Pending   Continue To Show' 'Price Change'\n",
      " 'Back on Market' 'Active Option' 'Foreclosure' 'recently sold'\n",
      " 'Coming soon: Nov 21.' 'Contingent Finance And Inspection'\n",
      " 'Coming soon: Dec 4.' 'P Pending Sale' 'Coming soon: Nov 23.'\n",
      " 'Active With Contingencies' 'Pending Ab' 'Pf' 'Contingent Show'\n",
      " 'Contract P' 'Contingent Take Backup' 'Apartment for rent'\n",
      " 'Backup Contract' 'Option Contract' 'Pending Continue To Show' 'pending'\n",
      " 'Pending Inspection' 'Active Option Contract' 'C' 'Auction - Active'\n",
      " 'Contingent   Show' 'Pi' 'Due Diligence Period'\n",
      " 'Contract Contingent On Buyer Sale' 'U Under Contract'\n",
      " 'Coming soon: Nov 29.' 'Coming soon: Dec 2.' 'Active Contingency'\n",
      " 'Pending With Contingencies' 'Lease/Purchase Pending'\n",
      " 'Pending Bring Backup' 'C Continue Show' 'Pending Taking Backups'\n",
      " 'Offer Pending Signature' 'Under Contract - Show'\n",
      " 'Contingent Lien Holder Release' 'Active - Auction' 'Active With Offer'\n",
      " 'Coming soon: Nov 30.' 'Closed' 'Listing Extended'\n",
      " 'Pending, Continue to Show' 'For Sale' 'Contingency Contract'\n",
      " 'Coming soon: Dec 10.' 'Contingent Escape' 'Pending - Taking Backups'\n",
      " 'Coming soon: Dec 24.' 'Active Backup' 'Coming soon: Nov 14.'\n",
      " 'Coming soon: Nov 22.' 'Coming soon: Oct 21.' 'Under contract'\n",
      " 'Coming soon: Dec 14.' 'Coming soon: Oct 24.' 'Condo for rent'\n",
      " 'Active Contingent' 'Coming soon: Dec 18.' 'Pending Offer Approval'\n",
      " 'Pending In' 'Coming soon: Dec 16.' 'Ct' 'Pending W/Insp Finance'\n",
      " 'Coming soon: Dec 3.' 'Coming soon: Dec 25.' 'Coming soon: Nov 11.'\n",
      " 'Coming soon: Nov 28.' 'Contingent Finance and Inspection'\n",
      " 'Temporary Active' 'CT Insp - Inspection Contingency'\n",
      " 'Coming soon: Nov 17.' 'Pending (Do Not Show)' 'Contingency 48 Hr (+/ )'\n",
      " 'Pending   Continue To Show   Financing' 'Pending W/ Cont.'\n",
      " 'Coming soon: Dec 6.' 'Back On Market' 'Coming soon: Nov 27.'\n",
      " 'Pending W/Escape Clause' 'Coming soon: Nov 26.'\n",
      " 'Pending - Continue to Show' 'Under Contract - No Show' 'Contract'\n",
      " 'Coming soon: Dec 7.' 'Coming soon: Dec 27.' 'Coming soon: Dec 11.'\n",
      " 'Coming soon: Dec 5.' 'Coming soon: Nov 13.' 'Contingent   Release'\n",
      " 'Accepted Offer' 'Conditional Contract' 'Active - Contingent'\n",
      " 'Active with Contract' 'Coming soon: Nov 19.' 'Coming soon: Nov 8.'\n",
      " 'Coming soon: Oct 29.' 'Coming soon: Dec 15.' 'Pending W/Backup Wanted'\n",
      " 'Pending Backups Wanted' 'Pending Fe' 'Coming soon: Oct 30.'\n",
      " 'Contingent   No Show' 'Coming soon: Dec 9.' 'Pending Sale'\n",
      " 'Accepting backups' 'Coming soon: Dec 20.' 'Pending Take Backups'\n",
      " 'Contingent   Foreclosure' 'Conting Accpt Backups' 'Lease/Purchase'\n",
      " 'Coming soon: Dec 13.' 'Contingent - Sale of Home' 'Sold: $285,000'\n",
      " 'Sold: $15,000' 'Ps' 'Under Contract W/ Bckp' 'Re Activated'\n",
      " 'Pending - Backup Offer Requested' 'Coming soon: Dec 12.' 'Reactivated'\n",
      " 'Uc Continue To Show' 'Contingent - Financing' 'Coming soon: Nov 5.'\n",
      " 'Coming soon: Nov 12.' 'Coming soon: Dec 1.' 'Pending Sh'\n",
      " 'Coming soon: Nov 25.' 'Under Contract Taking Back Up Offers' 'Backup'\n",
      " 'Coming soon: Dec 23.']\n"
     ]
    }
   ],
   "source": [
    "#Взгялем на status\n",
    "print(data['status'].unique())"
   ]
  },
  {
   "cell_type": "code",
   "execution_count": 819,
   "metadata": {},
   "outputs": [
    {
     "name": "stdout",
     "output_type": "stream",
     "text": [
      "['Single Family Home' 'single-family home' 'lot/land' ...\n",
      " 'Cabin/Lodge, Contemporary, Converted Barn, Cottage, Loft with Bedrooms, Log Home, Post & Beam'\n",
      " 'Lake House, Single Detached, Tudor'\n",
      " 'Bilevel, Converted Dwelling, Loft with Bedrooms, Condo/Unit']\n",
      " \n",
      "Эти 2 столбца будет очень тяжело обработать\n",
      "Удалим их\n"
     ]
    }
   ],
   "source": [
    "#Взглянем на propertyType\n",
    "print(data['propertyType'].unique())"
   ]
  },
  {
   "cell_type": "code",
   "execution_count": 820,
   "metadata": {},
   "outputs": [
    {
     "name": "stdout",
     "output_type": "stream",
     "text": [
      "Удалим строки с пропущеными значениями в target и sqft\n"
     ]
    }
   ],
   "source": [
    "data = data.drop(['propertyType', 'status'], axis=1)"
   ]
  },
  {
   "cell_type": "code",
   "execution_count": 821,
   "metadata": {},
   "outputs": [
    {
     "name": "stdout",
     "output_type": "stream",
     "text": [
      "Убедимся, что пропущеных данных больше нет\n"
     ]
    }
   ],
   "source": [
    "data = data.drop(data.loc[data['target'].isnull()].index)\n",
    "data = data.drop(data.loc[data['sqft'].isnull()].index)"
   ]
  },
  {
   "cell_type": "code",
   "execution_count": 822,
   "metadata": {},
   "outputs": [
    {
     "name": "stdout",
     "output_type": "stream",
     "text": [
      "0\n",
      " \n",
      "Взглянем на шапку\n"
     ]
    }
   ],
   "source": [
    "print(data.isnull().sum().max())"
   ]
  },
  {
   "cell_type": "code",
   "execution_count": 823,
   "metadata": {},
   "outputs": [
    {
     "data": {
      "text/html": [
       "<div>\n",
       "<style scoped>\n",
       "    .dataframe tbody tr th:only-of-type {\n",
       "        vertical-align: middle;\n",
       "    }\n",
       "\n",
       "    .dataframe tbody tr th {\n",
       "        vertical-align: top;\n",
       "    }\n",
       "\n",
       "    .dataframe thead th {\n",
       "        text-align: right;\n",
       "    }\n",
       "</style>\n",
       "<table border=\"1\" class=\"dataframe\">\n",
       "  <thead>\n",
       "    <tr style=\"text-align: right;\">\n",
       "      <th></th>\n",
       "      <th>baths</th>\n",
       "      <th>homeFacts</th>\n",
       "      <th>fireplace</th>\n",
       "      <th>schools</th>\n",
       "      <th>sqft</th>\n",
       "      <th>beds</th>\n",
       "      <th>state</th>\n",
       "      <th>stories</th>\n",
       "      <th>PrivatePool</th>\n",
       "      <th>target</th>\n",
       "    </tr>\n",
       "  </thead>\n",
       "  <tbody>\n",
       "    <tr>\n",
       "      <th>0</th>\n",
       "      <td>3</td>\n",
       "      <td>{'atAGlanceFacts': [{'factValue': '2019', 'fac...</td>\n",
       "      <td>1</td>\n",
       "      <td>[{'rating': ['4', '4', '7', 'NR', '4', '7', 'N...</td>\n",
       "      <td>2900</td>\n",
       "      <td>4</td>\n",
       "      <td>NC</td>\n",
       "      <td>1</td>\n",
       "      <td>0</td>\n",
       "      <td>$418,000</td>\n",
       "    </tr>\n",
       "    <tr>\n",
       "      <th>1</th>\n",
       "      <td>3</td>\n",
       "      <td>{'atAGlanceFacts': [{'factValue': '2019', 'fac...</td>\n",
       "      <td>0</td>\n",
       "      <td>[{'rating': ['4/10', 'None/10', '4/10'], 'data...</td>\n",
       "      <td>1,947 sqft</td>\n",
       "      <td>3</td>\n",
       "      <td>WA</td>\n",
       "      <td>2</td>\n",
       "      <td>0</td>\n",
       "      <td>$310,000</td>\n",
       "    </tr>\n",
       "    <tr>\n",
       "      <th>2</th>\n",
       "      <td>2</td>\n",
       "      <td>{'atAGlanceFacts': [{'factValue': '1961', 'fac...</td>\n",
       "      <td>1</td>\n",
       "      <td>[{'rating': ['8/10', '4/10', '8/10'], 'data': ...</td>\n",
       "      <td>3,000 sqft</td>\n",
       "      <td>3</td>\n",
       "      <td>CA</td>\n",
       "      <td>1</td>\n",
       "      <td>1</td>\n",
       "      <td>$2,895,000</td>\n",
       "    </tr>\n",
       "    <tr>\n",
       "      <th>3</th>\n",
       "      <td>8</td>\n",
       "      <td>{'atAGlanceFacts': [{'factValue': '2006', 'fac...</td>\n",
       "      <td>1</td>\n",
       "      <td>[{'rating': ['9/10', '9/10', '10/10', '9/10'],...</td>\n",
       "      <td>6,457 sqft</td>\n",
       "      <td>5</td>\n",
       "      <td>TX</td>\n",
       "      <td>3</td>\n",
       "      <td>0</td>\n",
       "      <td>$2,395,000</td>\n",
       "    </tr>\n",
       "    <tr>\n",
       "      <th>5</th>\n",
       "      <td>1</td>\n",
       "      <td>{'atAGlanceFacts': [{'factValue': '1920', 'fac...</td>\n",
       "      <td>0</td>\n",
       "      <td>[{'rating': [], 'data': {'Distance': [], 'Grad...</td>\n",
       "      <td>897 sqft</td>\n",
       "      <td>2</td>\n",
       "      <td>PA</td>\n",
       "      <td>2</td>\n",
       "      <td>0</td>\n",
       "      <td>$209,000</td>\n",
       "    </tr>\n",
       "  </tbody>\n",
       "</table>\n",
       "</div>"
      ],
      "text/plain": [
       "   baths                                          homeFacts  fireplace  \\\n",
       "0      3  {'atAGlanceFacts': [{'factValue': '2019', 'fac...          1   \n",
       "1      3  {'atAGlanceFacts': [{'factValue': '2019', 'fac...          0   \n",
       "2      2  {'atAGlanceFacts': [{'factValue': '1961', 'fac...          1   \n",
       "3      8  {'atAGlanceFacts': [{'factValue': '2006', 'fac...          1   \n",
       "5      1  {'atAGlanceFacts': [{'factValue': '1920', 'fac...          0   \n",
       "\n",
       "                                             schools        sqft  beds state  \\\n",
       "0  [{'rating': ['4', '4', '7', 'NR', '4', '7', 'N...        2900     4    NC   \n",
       "1  [{'rating': ['4/10', 'None/10', '4/10'], 'data...  1,947 sqft     3    WA   \n",
       "2  [{'rating': ['8/10', '4/10', '8/10'], 'data': ...  3,000 sqft     3    CA   \n",
       "3  [{'rating': ['9/10', '9/10', '10/10', '9/10'],...  6,457 sqft     5    TX   \n",
       "5  [{'rating': [], 'data': {'Distance': [], 'Grad...    897 sqft     2    PA   \n",
       "\n",
       "   stories  PrivatePool      target  \n",
       "0        1            0    $418,000  \n",
       "1        2            0    $310,000  \n",
       "2        1            1  $2,895,000  \n",
       "3        3            0  $2,395,000  \n",
       "5        2            0    $209,000  "
      ]
     },
     "execution_count": 823,
     "metadata": {},
     "output_type": "execute_result"
    }
   ],
   "source": [
    "data.head()"
   ]
  },
  {
   "cell_type": "code",
   "execution_count": 824,
   "metadata": {},
   "outputs": [
    {
     "name": "stdout",
     "output_type": "stream",
     "text": [
      "Посмотрим на homeFacts\n"
     ]
    }
   ],
   "source": [
    "#Приведем target и sqft к int\n",
    "\n",
    "def func_cost(x):\n",
    "    if type(x) != int:\n",
    "        x = re.findall(r'\\d+',x)\n",
    "        if len(x) > 2:\n",
    "            x = x[0] + x[1] + x[2]\n",
    "        elif len(x) > 1:\n",
    "            x = x[0] + x[1]\n",
    "        elif len(x) == 1:\n",
    "            x = x[0]\n",
    "        if not x:\n",
    "            return np.nan\n",
    "    return int(x)\n",
    "\n",
    "def func_area(x):\n",
    "    if type(x) != int:\n",
    "        x = re.findall(r'\\d+',x)\n",
    "        if len(x) > 1:\n",
    "            x = x[0] + x[1]\n",
    "        elif len(x) == 1:\n",
    "            x = x[0]\n",
    "        if not x:\n",
    "            return np.nan\n",
    "    return int(x)\n",
    "\n",
    "data['sqft'] = data['sqft'].apply(func_area)\n",
    "data['target'] = data['target'].apply(func_cost)\n",
    "# Вновь удалим строки с пропущенными значениями\n",
    "# Функция может вернуть NaN\n",
    "data = data.drop(data.loc[data['target'].isnull()].index)\n",
    "data = data.drop(data.loc[data['sqft'].isnull()].index)"
   ]
  },
  {
   "cell_type": "code",
   "execution_count": 825,
   "metadata": {},
   "outputs": [
    {
     "name": "stdout",
     "output_type": "stream",
     "text": [
      "{'atAGlanceFacts': [{'factValue': '2019', 'factLabel': 'Year built'}, {'factValue': '', 'factLabel': 'Remodeled year'}, {'factValue': 'Central A/C, Heat Pump', 'factLabel': 'Heating'}, {'factValue': '', 'factLabel': 'Cooling'}, {'factValue': '', 'factLabel': 'Parking'}, {'factValue': None, 'factLabel': 'lotsize'}, {'factValue': '$144', 'factLabel': 'Price/sqft'}]}\n",
      "<class 'str'>\n",
      "\n",
      "Видно, что эти строки представляют собой словарь, но в типе str\n",
      "Преобразуем в dict\n"
     ]
    }
   ],
   "source": [
    "print(data['homeFacts'][0])\n",
    "print(type(data['homeFacts'][0]))"
   ]
  },
  {
   "cell_type": "code",
   "execution_count": 826,
   "metadata": {},
   "outputs": [
    {
     "name": "stdout",
     "output_type": "stream",
     "text": [
      "{'atAGlanceFacts': [{'factValue': '2019', 'factLabel': 'Year built'}, {'factValue': '', 'factLabel': 'Remodeled year'}, {'factValue': 'Central A/C, Heat Pump', 'factLabel': 'Heating'}, {'factValue': '', 'factLabel': 'Cooling'}, {'factValue': '', 'factLabel': 'Parking'}, {'factValue': None, 'factLabel': 'lotsize'}, {'factValue': '$144', 'factLabel': 'Price/sqft'}]}\n",
      "\n",
      "Тип данных: <class 'dict'>\n",
      "Достанем данные из этих строк\n"
     ]
    }
   ],
   "source": [
    "ex = ast.literal_eval(data['homeFacts'][0])\n",
    "print(ex)\n",
    "print('Тип данных: {}'.format(type(ex)))"
   ]
  },
  {
   "cell_type": "code",
   "execution_count": 827,
   "metadata": {},
   "outputs": [
    {
     "name": "stdout",
     "output_type": "stream",
     "text": [
      "Обрабатываем schools аналогично homeFacts\n",
      "Возьмем расстояние до ближайшей школы\n"
     ]
    }
   ],
   "source": [
    "def data_func1(x):\n",
    "    a = ast.literal_eval(x)\n",
    "    return a['atAGlanceFacts'][0].get('factValue')\n",
    "\n",
    "def data_func2(x):\n",
    "    a = ast.literal_eval(x)\n",
    "    return a['atAGlanceFacts'][1].get('factValue')\n",
    "\n",
    "def data_func3(x):\n",
    "    a = ast.literal_eval(x)\n",
    "    return a['atAGlanceFacts'][2].get('factValue')\n",
    "\n",
    "def data_func4(x):\n",
    "    a = ast.literal_eval(x)\n",
    "    return a['atAGlanceFacts'][3].get('factValue')\n",
    "\n",
    "def data_func5(x):\n",
    "    a = ast.literal_eval(x)\n",
    "    return a['atAGlanceFacts'][4].get('factValue')\n",
    "\n",
    "def data_func6(x):\n",
    "    a = ast.literal_eval(x)\n",
    "    return a['atAGlanceFacts'][5].get('factValue')\n",
    "\n",
    "def data_func7(x):\n",
    "    a = ast.literal_eval(x)\n",
    "    return a['atAGlanceFacts'][6].get('factValue')\n",
    "\n",
    "data['built'] = data['homeFacts'].apply(data_func1)\n",
    "data['rebuilt'] = data['homeFacts'].apply(data_func2)\n",
    "data['heating'] = data['homeFacts'].apply(data_func3)\n",
    "data['cooling'] = data['homeFacts'].apply(data_func4)\n",
    "data['parking'] = data['homeFacts'].apply(data_func5)\n",
    "data['lotsize'] = data['homeFacts'].apply(data_func6)\n",
    "data['price'] = data['homeFacts'].apply(data_func7)\n",
    "# built - год постройки\n",
    "# rebuilt - год реновации\n",
    "# heating - отопление\n",
    "# cooling - кондиционер\n",
    "# parking - паркинг\n",
    "# lotsize - площадь участка\n",
    "# price - цена за 1 sqft"
   ]
  },
  {
   "cell_type": "code",
   "execution_count": 828,
   "metadata": {},
   "outputs": [
    {
     "name": "stdout",
     "output_type": "stream",
     "text": [
      "[{'rating': ['4', '4', '7', 'NR', '4', '7', 'NR', 'NR'], 'data': {'Distance': ['2.7 mi', '3.6 mi', '5.1 mi', '4.0 mi', '10.5 mi', '12.6 mi', '2.7 mi', '3.1 mi'], 'Grades': ['3–5', '6–8', '9–12', 'PK–2', '6–8', '9–12', 'PK–5', 'K–12']}, 'name': ['Southern Pines Elementary School', 'Southern Middle School', 'Pinecrest High School', 'Southern Pines Primary School', \"Crain's Creek Middle School\", 'Union Pines High School', 'Episcopal Day Private School', 'Calvary Christian Private School']}]\n",
      " \n",
      "<class 'str'>\n"
     ]
    }
   ],
   "source": [
    "print(data['schools'][0])\n",
    "print(' ')\n",
    "print(type(data['schools'][0]))"
   ]
  },
  {
   "cell_type": "code",
   "execution_count": 829,
   "metadata": {},
   "outputs": [
    {
     "name": "stdout",
     "output_type": "stream",
     "text": [
      "Отбросим homeFacts и schools. Они нам больше не нужны\n"
     ]
    }
   ],
   "source": [
    "def data_func8(x):\n",
    "    m = []\n",
    "    a = ast.literal_eval(x)\n",
    "    a = dict(a[0])\n",
    "    k = a['data'].get('Distance')\n",
    "    for i in k:\n",
    "        h = re.findall(r'\\d+',i)\n",
    "        if len(h) == 0:\n",
    "            continue\n",
    "        if len(h) == 1:\n",
    "            m.append(float(h[0]))\n",
    "            continue\n",
    "        d = h[0] + '.' + h[1]\n",
    "        m.append(float(d))\n",
    "    if len(m) == 0:\n",
    "        return np.nan\n",
    "    else:\n",
    "        return min(m)\n",
    "    \n",
    "data['distance'] = data['schools'].apply(data_func8)\n",
    "data = data.drop(data.loc[data['distance'].isnull()].index)\n",
    "#distance - дистанция до ближайшей школы"
   ]
  },
  {
   "cell_type": "code",
   "execution_count": 830,
   "metadata": {},
   "outputs": [
    {
     "name": "stdout",
     "output_type": "stream",
     "text": [
      "Посмотрим на пропуски в новых данных\n"
     ]
    }
   ],
   "source": [
    "data = data.drop(['homeFacts', 'schools'], axis = 1)"
   ]
  },
  {
   "cell_type": "code",
   "execution_count": 831,
   "metadata": {},
   "outputs": [
    {
     "name": "stdout",
     "output_type": "stream",
     "text": [
      "          Total   Percent\n",
      "lotsize   24571  0.074414\n",
      "rebuilt   22617  0.068497\n",
      "price     18547  0.056170\n",
      "built       569  0.001723\n",
      "parking     543  0.001644\n",
      "cooling     543  0.001644\n",
      "heating     543  0.001644\n",
      "distance      0  0.000000\n"
     ]
    }
   ],
   "source": [
    "total = data.isnull().sum().sort_values(ascending=False)\n",
    "percent = (data.isnull().sum()/data.isnull().count()).sort_values(ascending=False)\n",
    "missing_data = pd.concat([total, percent], axis=1, keys=['Total', 'Percent'])\n",
    "print(missing_data.head(8))"
   ]
  },
  {
   "cell_type": "code",
   "execution_count": 832,
   "metadata": {},
   "outputs": [
    {
     "name": "stdout",
     "output_type": "stream",
     "text": [
      "['' 'Central' 'Central Air' ...\n",
      " 'Central Air, Electric Hot Air, Gas (Hot Air), Heat Pump for A/C, Heat Pump for Heat, Multi-Zone A/C, Multi-Zone Heat, Natural Gas'\n",
      " '90%+ High Efficiency, Ductless HP-Mini Split, Tankless Water Heater'\n",
      " 'Central A/C (Gas), Central Heat (Gas), Heat Pump']\n"
     ]
    }
   ],
   "source": [
    "#Обработаем parking, cooling, heating\n",
    "print(data['cooling'].unique())"
   ]
  },
  {
   "cell_type": "code",
   "execution_count": 833,
   "metadata": {},
   "outputs": [],
   "source": [
    "def func_cool(x):\n",
    "    if x == '':\n",
    "        return 0\n",
    "    return 1\n",
    "\n",
    "data['cooling'] = data['cooling'].fillna(0).apply(func_cool)"
   ]
  },
  {
   "cell_type": "code",
   "execution_count": 834,
   "metadata": {},
   "outputs": [
    {
     "name": "stdout",
     "output_type": "stream",
     "text": [
      "['Central A/C, Heat Pump' '' 'Forced Air' ...\n",
      " 'Electric Furnace, Electric Heat Pump'\n",
      " 'Floor Furnace, Wall Electric, Wall Gas'\n",
      " 'Baseboard, Hot Water, Programmable Thermostat, Radiant Floor']\n"
     ]
    }
   ],
   "source": [
    "print(data['heating'].unique())"
   ]
  },
  {
   "cell_type": "code",
   "execution_count": 835,
   "metadata": {},
   "outputs": [],
   "source": [
    "def func_heat(x):\n",
    "    if x == '':\n",
    "        return 0\n",
    "    return 1\n",
    "\n",
    "data['heating'] = data['heating'].fillna(0).apply(func_heat)"
   ]
  },
  {
   "cell_type": "code",
   "execution_count": 836,
   "metadata": {},
   "outputs": [
    {
     "name": "stdout",
     "output_type": "stream",
     "text": [
      "['' 'Attached Garage' 'Detached Garage' ... 'Basement, Detached'\n",
      " 'Paved Driveway, Off Street, Detached Garage'\n",
      " 'Deed Restrictions, Fitness, Gated Community, Golf Carts OK, No Truck/RV/Motorcycle Parking, Pool, Special Community Restrictions']\n"
     ]
    }
   ],
   "source": [
    "print(data['parking'].unique())"
   ]
  },
  {
   "cell_type": "code",
   "execution_count": 837,
   "metadata": {},
   "outputs": [
    {
     "name": "stdout",
     "output_type": "stream",
     "text": [
      "Достанем все числа из built\n"
     ]
    }
   ],
   "source": [
    "def func_park(x):\n",
    "    if x == '':\n",
    "        return 0\n",
    "    return 1\n",
    "\n",
    "data['parking'] = data['parking'].fillna(0).apply(func_park)"
   ]
  },
  {
   "cell_type": "code",
   "execution_count": 838,
   "metadata": {},
   "outputs": [
    {
     "name": "stdout",
     "output_type": "stream",
     "text": [
      "Обработаем rebuilt следующим образом:\n",
      "Присвоим пропущеным значениям rebuilt значения built\n"
     ]
    }
   ],
   "source": [
    "def func_built(x):\n",
    "    x = re.findall(r'\\d+',x)\n",
    "    if len(x) > 1:\n",
    "        x = x[0] + x[1]\n",
    "    elif len(x) == 1:\n",
    "        x = x[0]\n",
    "    if not x:\n",
    "        return np.nan\n",
    "    return int(x)\n",
    "\n",
    "#Удаляем строки с пропущеными значениями\n",
    "data = data.drop(data.loc[data['built'].isnull()].index)\n",
    "data['built'] = data['built'].apply(func_built)\n",
    "#Удаляем еще раз так как функция может вернуть NaN\n",
    "data = data.drop(data.loc[data['built'].isnull()].index)"
   ]
  },
  {
   "cell_type": "code",
   "execution_count": 839,
   "metadata": {},
   "outputs": [
    {
     "name": "stdout",
     "output_type": "stream",
     "text": [
      "Взглянем на все, что осталось\n"
     ]
    }
   ],
   "source": [
    "data['rebuilt'] = data['rebuilt'].fillna(0)\n",
    "def func_rebuilt(row):\n",
    "    if row['rebuilt'] == 0:\n",
    "        return row['built']\n",
    "    if row['rebuilt'] == '':\n",
    "        return row['built']\n",
    "    return row['rebuilt']\n",
    "        \n",
    "data['rebuilt'] = data.apply(lambda row: func_rebuilt(row), axis=1)"
   ]
  },
  {
   "cell_type": "code",
   "execution_count": 840,
   "metadata": {},
   "outputs": [
    {
     "data": {
      "text/html": [
       "<div>\n",
       "<style scoped>\n",
       "    .dataframe tbody tr th:only-of-type {\n",
       "        vertical-align: middle;\n",
       "    }\n",
       "\n",
       "    .dataframe tbody tr th {\n",
       "        vertical-align: top;\n",
       "    }\n",
       "\n",
       "    .dataframe thead th {\n",
       "        text-align: right;\n",
       "    }\n",
       "</style>\n",
       "<table border=\"1\" class=\"dataframe\">\n",
       "  <thead>\n",
       "    <tr style=\"text-align: right;\">\n",
       "      <th></th>\n",
       "      <th>baths</th>\n",
       "      <th>fireplace</th>\n",
       "      <th>sqft</th>\n",
       "      <th>beds</th>\n",
       "      <th>state</th>\n",
       "      <th>stories</th>\n",
       "      <th>PrivatePool</th>\n",
       "      <th>target</th>\n",
       "      <th>built</th>\n",
       "      <th>rebuilt</th>\n",
       "      <th>heating</th>\n",
       "      <th>cooling</th>\n",
       "      <th>parking</th>\n",
       "      <th>lotsize</th>\n",
       "      <th>price</th>\n",
       "      <th>distance</th>\n",
       "    </tr>\n",
       "  </thead>\n",
       "  <tbody>\n",
       "    <tr>\n",
       "      <th>0</th>\n",
       "      <td>3</td>\n",
       "      <td>1</td>\n",
       "      <td>2900.0</td>\n",
       "      <td>4</td>\n",
       "      <td>NC</td>\n",
       "      <td>1</td>\n",
       "      <td>0</td>\n",
       "      <td>418000</td>\n",
       "      <td>2019.0</td>\n",
       "      <td>2019</td>\n",
       "      <td>1</td>\n",
       "      <td>0</td>\n",
       "      <td>0</td>\n",
       "      <td>None</td>\n",
       "      <td>$144</td>\n",
       "      <td>2.70</td>\n",
       "    </tr>\n",
       "    <tr>\n",
       "      <th>1</th>\n",
       "      <td>3</td>\n",
       "      <td>0</td>\n",
       "      <td>1947.0</td>\n",
       "      <td>3</td>\n",
       "      <td>WA</td>\n",
       "      <td>2</td>\n",
       "      <td>0</td>\n",
       "      <td>310000</td>\n",
       "      <td>2019.0</td>\n",
       "      <td>2019</td>\n",
       "      <td>0</td>\n",
       "      <td>0</td>\n",
       "      <td>0</td>\n",
       "      <td>5828 sqft</td>\n",
       "      <td>$159/sqft</td>\n",
       "      <td>1.01</td>\n",
       "    </tr>\n",
       "    <tr>\n",
       "      <th>2</th>\n",
       "      <td>2</td>\n",
       "      <td>1</td>\n",
       "      <td>3000.0</td>\n",
       "      <td>3</td>\n",
       "      <td>CA</td>\n",
       "      <td>1</td>\n",
       "      <td>1</td>\n",
       "      <td>2895000</td>\n",
       "      <td>1961.0</td>\n",
       "      <td>1967</td>\n",
       "      <td>1</td>\n",
       "      <td>1</td>\n",
       "      <td>1</td>\n",
       "      <td>8,626 sqft</td>\n",
       "      <td>$965/sqft</td>\n",
       "      <td>1.19</td>\n",
       "    </tr>\n",
       "    <tr>\n",
       "      <th>3</th>\n",
       "      <td>8</td>\n",
       "      <td>1</td>\n",
       "      <td>6457.0</td>\n",
       "      <td>5</td>\n",
       "      <td>TX</td>\n",
       "      <td>3</td>\n",
       "      <td>0</td>\n",
       "      <td>2395000</td>\n",
       "      <td>2006.0</td>\n",
       "      <td>2006</td>\n",
       "      <td>1</td>\n",
       "      <td>1</td>\n",
       "      <td>1</td>\n",
       "      <td>8,220 sqft</td>\n",
       "      <td>$371/sqft</td>\n",
       "      <td>0.10</td>\n",
       "    </tr>\n",
       "    <tr>\n",
       "      <th>6</th>\n",
       "      <td>1</td>\n",
       "      <td>0</td>\n",
       "      <td>1507.0</td>\n",
       "      <td>1</td>\n",
       "      <td>FL</td>\n",
       "      <td>1</td>\n",
       "      <td>0</td>\n",
       "      <td>181500</td>\n",
       "      <td>2006.0</td>\n",
       "      <td>2006</td>\n",
       "      <td>1</td>\n",
       "      <td>1</td>\n",
       "      <td>0</td>\n",
       "      <td>4,996 Sq. Ft.</td>\n",
       "      <td>$120 / Sq. Ft.</td>\n",
       "      <td>0.80</td>\n",
       "    </tr>\n",
       "  </tbody>\n",
       "</table>\n",
       "</div>"
      ],
      "text/plain": [
       "   baths  fireplace    sqft  beds state  stories  PrivatePool   target  \\\n",
       "0      3          1  2900.0     4    NC        1            0   418000   \n",
       "1      3          0  1947.0     3    WA        2            0   310000   \n",
       "2      2          1  3000.0     3    CA        1            1  2895000   \n",
       "3      8          1  6457.0     5    TX        3            0  2395000   \n",
       "6      1          0  1507.0     1    FL        1            0   181500   \n",
       "\n",
       "    built rebuilt  heating  cooling  parking        lotsize           price  \\\n",
       "0  2019.0    2019        1        0        0           None            $144   \n",
       "1  2019.0    2019        0        0        0      5828 sqft       $159/sqft   \n",
       "2  1961.0    1967        1        1        1     8,626 sqft       $965/sqft   \n",
       "3  2006.0    2006        1        1        1     8,220 sqft       $371/sqft   \n",
       "6  2006.0    2006        1        1        0  4,996 Sq. Ft.  $120 / Sq. Ft.   \n",
       "\n",
       "   distance  \n",
       "0      2.70  \n",
       "1      1.01  \n",
       "2      1.19  \n",
       "3      0.10  \n",
       "6      0.80  "
      ]
     },
     "execution_count": 840,
     "metadata": {},
     "output_type": "execute_result"
    }
   ],
   "source": [
    "data.head()"
   ]
  },
  {
   "cell_type": "code",
   "execution_count": 841,
   "metadata": {},
   "outputs": [
    {
     "name": "stdout",
     "output_type": "stream",
     "text": [
      "state я решил обработать следующим образом:\n",
      "Я заменяю штат на число, в зависимости от группы, которые определил, основываясь на благополучие штата\n",
      "Списки были созданы по этому сайту\n",
      "https://www.usnews.com/news/best-states/rankings\n"
     ]
    }
   ],
   "source": [
    "#Достанем числа из lotsize и price\n",
    "\n",
    "def func_lot(x):\n",
    "    if type(x) != int:\n",
    "        x = re.findall(r'\\d+',x)\n",
    "        if len(x) > 1:\n",
    "            x = x[0] + x[1]\n",
    "        elif len(x) == 1:\n",
    "            x = x[0]\n",
    "        if not x:\n",
    "            return np.nan\n",
    "    return int(x)\n",
    "\n",
    "#Отбросим строки с пропусками в lotsize и price из за сложности обработки\n",
    "data = data.drop(data.loc[data['lotsize'].isnull()].index)\n",
    "data = data.drop(data.loc[data['price'].isnull()].index)\n",
    "data['lotsize'] = data['lotsize'].apply(func_lot)\n",
    "data['price'] = data['price'].apply(func_lot)\n",
    "data = data.drop(data.loc[data['lotsize'].isnull()].index)\n",
    "data = data.drop(data.loc[data['price'].isnull()].index)"
   ]
  },
  {
   "cell_type": "code",
   "execution_count": 842,
   "metadata": {
    "scrolled": false
   },
   "outputs": [
    {
     "name": "stdout",
     "output_type": "stream",
     "text": [
      "Первичная очистка от вбросов(максимальные параметры домов)\n"
     ]
    }
   ],
   "source": [
    "top = ['WA', 'NH', 'MN', 'UT', 'VT', 'MD', 'VA', 'MA', 'NE', 'CO', 'WI', 'NJ', 'FL', 'IA', 'ND', 'ID']\n",
    "mid = ['GA', 'NC', 'CA', 'SD', 'CT', 'KS', 'DE', 'HI', 'NY', 'RI', 'OR', 'MO', 'MT', 'TN', 'WY', 'ME']\n",
    "\n",
    "def state(x):\n",
    "    if x in top:\n",
    "        return 2\n",
    "    if x in mid:\n",
    "        return 1\n",
    "    return 0\n",
    "\n",
    "data['state'] = data['state'].apply(state)"
   ]
  },
  {
   "cell_type": "code",
   "execution_count": 843,
   "metadata": {},
   "outputs": [
    {
     "name": "stdout",
     "output_type": "stream",
     "text": [
      "Взглянем на графики некоторых столбцов\n"
     ]
    }
   ],
   "source": [
    "data = data[data['stories'] < 164]\n",
    "data = data[data['baths'] < 258]\n",
    "data = data[data['beds'] < 191]"
   ]
  },
  {
   "cell_type": "code",
   "execution_count": 844,
   "metadata": {},
   "outputs": [
    {
     "data": {
      "image/png": "[encoded data removed]",
      "text/plain": [
       "<Figure size 900x900 with 30 Axes>"
      ]
     },
     "metadata": {},
     "output_type": "display_data"
    }
   ],
   "source": [
    "import matplotlib.pyplot as plt\n",
    "sns.set()\n",
    "cols = ['target', 'baths', 'stories', 'beds', 'sqft']\n",
    "sns.pairplot(data[cols], size = 2.5)\n",
    "plt.show();"
   ]
  },
  {
   "cell_type": "code",
   "execution_count": 845,
   "metadata": {},
   "outputs": [
    {
     "name": "stdout",
     "output_type": "stream",
     "text": [
      "target dispersion: 2726869355915.4067\n"
     ]
    },
    {
     "data": {
      "image/png": "[encoded data removed]",
      "text/plain": [
       "<Figure size 432x288 with 1 Axes>"
      ]
     },
     "metadata": {},
     "output_type": "display_data"
    },
    {
     "data": {
      "image/png": "[encoded data removed]",
      "text/plain": [
       "<Figure size 432x288 with 1 Axes>"
      ]
     },
     "metadata": {},
     "output_type": "display_data"
    }
   ],
   "source": [
    "# Посмотрим на распределение и дисперсию целевой переменной\n",
    "sns.distplot(data['target'] , fit=norm);\n",
    "\n",
    "plt.ylabel('Frequency')\n",
    "plt.title('target distribution')\n",
    "\n",
    "fig = plt.figure()\n",
    "res = stats.probplot(data['target'], plot=plt)\n",
    "print('target dispersion: {}'.format(np.var(data['target'])))\n",
    "plt.show()"
   ]
  },
  {
   "cell_type": "code",
   "execution_count": 846,
   "metadata": {},
   "outputs": [
    {
     "name": "stdout",
     "output_type": "stream",
     "text": [
      "sqft dispersion: 158394704.2172877\n"
     ]
    },
    {
     "data": {
      "image/png": "[encoded data removed]",
      "text/plain": [
       "<Figure size 432x288 with 1 Axes>"
      ]
     },
     "metadata": {},
     "output_type": "display_data"
    },
    {
     "data": {
      "image/png": "[encoded data removed]",
      "text/plain": [
       "<Figure size 432x288 with 1 Axes>"
      ]
     },
     "metadata": {},
     "output_type": "display_data"
    }
   ],
   "source": [
    "#Проделаем то же самое с sqft\n",
    "sns.distplot(data['sqft'] , fit=norm);\n",
    "\n",
    "plt.ylabel('Frequency')\n",
    "plt.title('target distribution')\n",
    "\n",
    "fig = plt.figure()\n",
    "res = stats.probplot(data['sqft'], plot=plt)\n",
    "print('sqft dispersion: {}'.format(np.var(data['sqft'])))\n",
    "plt.show()"
   ]
  },
  {
   "cell_type": "code",
   "execution_count": 847,
   "metadata": {},
   "outputs": [],
   "source": [
    "#Избавимся от лишних данных, основываясь на графики\n",
    "data = data[data['target'] < 44000000]\n",
    "data = data[data['sqft'] < 500000]"
   ]
  },
  {
   "cell_type": "code",
   "execution_count": 848,
   "metadata": {},
   "outputs": [
    {
     "name": "stderr",
     "output_type": "stream",
     "text": [
      "'c' argument looks like a single numeric RGB or RGBA sequence, which should be avoided as value-mapping will have precedence in case its length matches with 'x' & 'y'.  Please use a 2-D array with a single row if you really want to specify the same RGB or RGBA value for all points.\n"
     ]
    },
    {
     "name": "stdout",
     "output_type": "stream",
     "text": [
      "Из этого графика следует вывод, что продают в основном квартиры или возможно фермы\n",
      "Очистим все остальные столбцы от вбросов\n"
     ]
    },
    {
     "data": {
      "image/png": "[encoded data removed]",
      "text/plain": [
       "<Figure size 432x288 with 1 Axes>"
      ]
     },
     "metadata": {},
     "output_type": "display_data"
    }
   ],
   "source": [
    "var = 'sqft'\n",
    "dat = pd.concat([data['target'], data[var]], axis=1)\n",
    "dat.plot.scatter(x=var, y='target', ylim=(0,45000000));"
   ]
  },
  {
   "cell_type": "code",
   "execution_count": 849,
   "metadata": {},
   "outputs": [
    {
     "data": {
      "text/plain": [
       "<matplotlib.axes._subplots.AxesSubplot at 0x228e83a50c8>"
      ]
     },
     "execution_count": 849,
     "metadata": {},
     "output_type": "execute_result"
    },
    {
     "data": {
      "image/png": "[encoded data removed]",
      "text/plain": [
       "<Figure size 432x288 with 1 Axes>"
      ]
     },
     "metadata": {},
     "output_type": "display_data"
    }
   ],
   "source": [
    "sns.distplot(data['beds'])"
   ]
  },
  {
   "cell_type": "code",
   "execution_count": 850,
   "metadata": {},
   "outputs": [
    {
     "data": {
      "text/plain": [
       "<matplotlib.axes._subplots.AxesSubplot at 0x228e65ba988>"
      ]
     },
     "execution_count": 850,
     "metadata": {},
     "output_type": "execute_result"
    },
    {
     "data": {
      "image/png": "[encoded data removed]",
      "text/plain": [
       "<Figure size 432x288 with 1 Axes>"
      ]
     },
     "metadata": {},
     "output_type": "display_data"
    }
   ],
   "source": [
    "data = data[data['beds'] < 100]\n",
    "sns.distplot(data['beds'])"
   ]
  },
  {
   "cell_type": "code",
   "execution_count": 851,
   "metadata": {},
   "outputs": [
    {
     "data": {
      "text/plain": [
       "<matplotlib.axes._subplots.AxesSubplot at 0x228e6dc2bc8>"
      ]
     },
     "execution_count": 851,
     "metadata": {},
     "output_type": "execute_result"
    },
    {
     "data": {
      "image/png": "[encoded data removed]",
      "text/plain": [
       "<Figure size 432x288 with 1 Axes>"
      ]
     },
     "metadata": {},
     "output_type": "display_data"
    }
   ],
   "source": [
    "data = data[data['beds'] < 10]\n",
    "sns.distplot(data['baths'])"
   ]
  },
  {
   "cell_type": "code",
   "execution_count": 852,
   "metadata": {},
   "outputs": [
    {
     "data": {
      "text/plain": [
       "<matplotlib.axes._subplots.AxesSubplot at 0x228cacc6688>"
      ]
     },
     "execution_count": 852,
     "metadata": {},
     "output_type": "execute_result"
    },
    {
     "data": {
      "image/png": "[encoded data removed]",
      "text/plain": [
       "<Figure size 432x288 with 1 Axes>"
      ]
     },
     "metadata": {},
     "output_type": "display_data"
    }
   ],
   "source": [
    "data = data[data['baths'] < 100]\n",
    "sns.distplot(data['baths'])"
   ]
  },
  {
   "cell_type": "code",
   "execution_count": 853,
   "metadata": {},
   "outputs": [],
   "source": [
    "data = data[data['baths'] < 10]"
   ]
  },
  {
   "cell_type": "code",
   "execution_count": 854,
   "metadata": {},
   "outputs": [
    {
     "data": {
      "text/plain": [
       "<matplotlib.axes._subplots.AxesSubplot at 0x228e8281708>"
      ]
     },
     "execution_count": 854,
     "metadata": {},
     "output_type": "execute_result"
    },
    {
     "data": {
      "image/png": "[encoded data removed]",
      "text/plain": [
       "<Figure size 432x288 with 1 Axes>"
      ]
     },
     "metadata": {},
     "output_type": "display_data"
    }
   ],
   "source": [
    "sns.distplot(data['stories'])"
   ]
  },
  {
   "cell_type": "code",
   "execution_count": 855,
   "metadata": {},
   "outputs": [
    {
     "data": {
      "text/plain": [
       "<matplotlib.axes._subplots.AxesSubplot at 0x228e7bd0788>"
      ]
     },
     "execution_count": 855,
     "metadata": {},
     "output_type": "execute_result"
    },
    {
     "data": {
      "image/png": "[encoded data removed]",
      "text/plain": [
       "<Figure size 432x288 with 1 Axes>"
      ]
     },
     "metadata": {},
     "output_type": "display_data"
    }
   ],
   "source": [
    "sns.distplot(data['stories'])"
   ]
  },
  {
   "cell_type": "code",
   "execution_count": 856,
   "metadata": {},
   "outputs": [],
   "source": [
    "data = data[data['stories'] < 15]\n",
    "\n",
    "#приведем все данные к int на всякий случай\n",
    "for x in data.columns:\n",
    "    data[x] = data[x].astype(int)\n",
    "\n",
    "data.to_csv('model.csv', index=False)"
   ]
  },
  {
   "cell_type": "code",
   "execution_count": 857,
   "metadata": {},
   "outputs": [
    {
     "name": "stdout",
     "output_type": "stream",
     "text": [
      "Проверим работу некоторых регрессоров\n"
     ]
    }
   ],
   "source": [
    "data = pd.read_csv('model.csv')\n",
    "\n",
    "X = data.drop('target', axis = 1)\n",
    "y = data['target']\n",
    "\n",
    "X_train, X_test, y_train, y_test = train_test_split(X, y, test_size=0.3, random_state=42, shuffle=True)\n",
    "\n",
    "cv = StratifiedKFold(n_splits=3, shuffle=True, random_state=21)"
   ]
  },
  {
   "cell_type": "code",
   "execution_count": 858,
   "metadata": {},
   "outputs": [
    {
     "name": "stdout",
     "output_type": "stream",
     "text": [
      "Xgboost: 0.9846224063545553/0.004225766829977307\n"
     ]
    }
   ],
   "source": [
    "xg = xgboost.XGBRegressor()\n",
    "scores = cross_val_score(xg, X_train, y_train, cv=cv, n_jobs=-1, scoring='r2')\n",
    "print(\"Xgboost: {}/{}\".format(scores.mean(), scores.std()))"
   ]
  },
  {
   "cell_type": "code",
   "execution_count": 859,
   "metadata": {},
   "outputs": [
    {
     "name": "stdout",
     "output_type": "stream",
     "text": [
      "LinearRegression: 0.2051600612458165/0.002585966129733921\n"
     ]
    }
   ],
   "source": [
    "lr = LinearRegression()\n",
    "scores = cross_val_score(lr, X_train, y_train, cv=cv, n_jobs=-1, scoring='r2')\n",
    "print(\"LinearRegression: {}/{}\".format(scores.mean(), scores.std()))"
   ]
  },
  {
   "cell_type": "code",
   "execution_count": 860,
   "metadata": {},
   "outputs": [
    {
     "name": "stdout",
     "output_type": "stream",
     "text": [
      "catboost: 0.9357667439817611/0.007319459725030101\n"
     ]
    }
   ],
   "source": [
    "ct = catboost.CatBoostRegressor()\n",
    "scores = cross_val_score(ct, X_train, y_train, cv=cv, n_jobs=-1, scoring='r2')\n",
    "print(\"catboost: {}/{}\".format(scores.mean(), scores.std()))"
   ]
  },
  {
   "cell_type": "code",
   "execution_count": 861,
   "metadata": {},
   "outputs": [
    {
     "name": "stdout",
     "output_type": "stream",
     "text": [
      "GradientBoosting: 0.9835067691890673/0.005610745130667921\n"
     ]
    }
   ],
   "source": [
    "gb = GradientBoostingRegressor(random_state=21)\n",
    "scores = cross_val_score(gb, X_train, y_train, cv=cv, n_jobs=-1, scoring='r2')\n",
    "print(\"GradientBoosting: {}/{}\".format(scores.mean(), scores.std()))"
   ]
  },
  {
   "cell_type": "code",
   "execution_count": 862,
   "metadata": {},
   "outputs": [
    {
     "name": "stdout",
     "output_type": "stream",
     "text": [
      "Kneighbors: 0.8710300681786665/0.013374827022882294\n"
     ]
    }
   ],
   "source": [
    "kn = KNeighborsRegressor()\n",
    "scores = cross_val_score(kn, X_train, y_train, cv=cv, n_jobs=-1, scoring='r2')\n",
    "print(\"Kneighbors: {}/{}\".format(scores.mean(), scores.std()))"
   ]
  },
  {
   "cell_type": "code",
   "execution_count": 863,
   "metadata": {},
   "outputs": [
    {
     "name": "stdout",
     "output_type": "stream",
     "text": [
      "RandomForest: 0.9826760208195363/0.004430081286989351\n"
     ]
    }
   ],
   "source": [
    "rf = RandomForestRegressor(random_state=21)\n",
    "scores = cross_val_score(rf, X_train, y_train, cv=cv, n_jobs=-1, scoring='r2')\n",
    "print(\"RandomForest: {}/{}\".format(scores.mean(), scores.std()))"
   ]
  },
  {
   "cell_type": "code",
   "execution_count": 864,
   "metadata": {},
   "outputs": [
    {
     "name": "stdout",
     "output_type": "stream",
     "text": [
      "DecisionTree: 0.9755110771887313/0.004703698973218491\n"
     ]
    }
   ],
   "source": [
    "dt = DecisionTreeRegressor(random_state=21)\n",
    "scores = cross_val_score(dt, X_train, y_train, cv=cv, n_jobs=-1, scoring='r2')\n",
    "print(\"DecisionTree: {}/{}\".format(scores.mean(), scores.std()))"
   ]
  },
  {
   "cell_type": "code",
   "execution_count": 865,
   "metadata": {},
   "outputs": [
    {
     "name": "stdout",
     "output_type": "stream",
     "text": [
      "LGBMRegressor: 0.9548432623743764/0.006078007214893532\n",
      "\n",
      "Победил GradientBoosting\n",
      "Подберем параметры\n"
     ]
    }
   ],
   "source": [
    "dt = LGBMRegressor(random_state=21)\n",
    "scores = cross_val_score(dt, X_train, y_train, cv=cv, n_jobs=-1, scoring='r2')\n",
    "print(\"LGBMRegressor: {}/{}\".format(scores.mean(), scores.std()))"
   ]
  },
  {
   "cell_type": "code",
   "execution_count": 866,
   "metadata": {},
   "outputs": [
    {
     "name": "stdout",
     "output_type": "stream",
     "text": [
      "gradient boosting: 0.9902902314385419 with params {'max_depth': 4, 'min_samples_leaf': 3, 'min_samples_split': 2, 'n_estimators': 250}\n"
     ]
    }
   ],
   "source": [
    "alg_thrd_model = GradientBoostingRegressor(random_state=21)\n",
    "alg_thrd_params = [{\n",
    "    \"n_estimators\": [75, 150, 250],\n",
    "    \"min_samples_split\": [1, 2, 3],\n",
    "    \"min_samples_leaf\": [1, 2, 3],\n",
    "    \"max_depth\": [4, 5, 6]\n",
    "}]\n",
    "alg_thrd_grid = GridSearchCV(alg_thrd_model, alg_thrd_params, cv=cv, refit=True, n_jobs=-1)\n",
    "alg_thrd_grid.fit(X_train, y_train)\n",
    "alg_thrd_best = alg_thrd_grid.best_estimator_\n",
    "print(\"gradient boosting: {} with params {}\"\n",
    "      .format(alg_thrd_grid.best_score_, alg_thrd_grid.best_params_))\n",
    "#Можно было бы продолжать подбирать параметры, но у меня не было много времени"
   ]
  },
  {
   "cell_type": "code",
   "execution_count": 867,
   "metadata": {},
   "outputs": [
    {
     "name": "stdout",
     "output_type": "stream",
     "text": [
      "Посмотрим на финальную точность\n",
      "0.9896770531596953\n"
     ]
    }
   ],
   "source": [
    "#Обучим модель\n",
    "gb = GradientBoostingRegressor(max_depth = 5, min_samples_leaf = 2, \n",
    "                               min_samples_split = 2, n_estimators = 300, random_state = 21)\n",
    "\n",
    "gb.fit(X_train, y_train)\n",
    "gb_pred = gb.predict(X_test)\n",
    "print(r2_score(y_test, gb_pred))"
   ]
  },
  {
   "cell_type": "code",
   "execution_count": 868,
   "metadata": {},
   "outputs": [],
   "source": [
    "#Сохраним модель\n",
    "import pickle\n",
    "with open('mymodel.pkl', 'wb') as output:\n",
    "       pickle.dump(gb, output)\n",
    "X_test.to_csv('example.csv')"
   ]
  },
  {
   "cell_type": "code",
   "execution_count": 869,
   "metadata": {},
   "outputs": [
    {
     "name": "stdout",
     "output_type": "stream",
     "text": [
      "Сохраним результат\n"
     ]
    }
   ],
   "source": [
    "#Модель могла предсказать отрицательное значение\n",
    "#Поменяем все отрицательные значения на положительные\n",
    "for x in range(len(y_pred)):\n",
    "    if y_pred[x] < 0:\n",
    "        y_pred[x] = -y_pred[x]"
   ]
  },
  {
   "cell_type": "code",
   "execution_count": 870,
   "metadata": {},
   "outputs": [],
   "source": [
    "submission = pd.DataFrame({\"target\": y_pred})\n",
    "submission.to_csv(\"submission1.csv\", index=False)"
   ]
  }
 ],
 "metadata": {
  "kernelspec": {
   "display_name": "Python 3",
   "language": "python",
   "name": "python3"
  },
  "language_info": {
   "codemirror_mode": {
    "name": "ipython",
    "version": 3
   },
   "file_extension": ".py",
   "mimetype": "text/x-python",
   "name": "python",
   "nbconvert_exporter": "python",
   "pygments_lexer": "ipython3",
   "version": "3.7.6"
  }
 },
 "nbformat": 4,
 "nbformat_minor": 2
}
