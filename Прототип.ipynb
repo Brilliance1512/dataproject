{
 "cells": [
  {
   "cell_type": "code",
   "execution_count": 27,
   "metadata": {},
   "outputs": [
    {
     "name": "stdout",
     "output_type": "stream",
     "text": [
      "67249\n",
      "67249\n"
     ]
    }
   ],
   "source": [
    "import pickle\n",
    "import pandas as pd\n",
    "X_test = pd.read_csv('example.csv')\n",
    "with open('mymodel.pkl', 'rb') as pkl_file:\n",
    "    regressor = pickle.load(pkl_file)\n",
    "pred = regressor.predict(X_test)\n",
    "print(len(X_test))\n",
    "print(len(pred))"
   ]
  },
  {
   "cell_type": "code",
   "execution_count": 28,
   "metadata": {},
   "outputs": [
    {
     "data": {
      "text/html": [
       "<div>\n",
       "<style scoped>\n",
       "    .dataframe tbody tr th:only-of-type {\n",
       "        vertical-align: middle;\n",
       "    }\n",
       "\n",
       "    .dataframe tbody tr th {\n",
       "        vertical-align: top;\n",
       "    }\n",
       "\n",
       "    .dataframe thead th {\n",
       "        text-align: right;\n",
       "    }\n",
       "</style>\n",
       "<table border=\"1\" class=\"dataframe\">\n",
       "  <thead>\n",
       "    <tr style=\"text-align: right;\">\n",
       "      <th></th>\n",
       "      <th>baths</th>\n",
       "      <th>fireplace</th>\n",
       "      <th>sqft</th>\n",
       "      <th>beds</th>\n",
       "      <th>state</th>\n",
       "      <th>stories</th>\n",
       "      <th>PrivatePool</th>\n",
       "      <th>built</th>\n",
       "      <th>rebuilt</th>\n",
       "      <th>heating</th>\n",
       "      <th>cooling</th>\n",
       "      <th>parking</th>\n",
       "      <th>lotsize</th>\n",
       "      <th>price</th>\n",
       "      <th>distance</th>\n",
       "    </tr>\n",
       "  </thead>\n",
       "  <tbody>\n",
       "    <tr>\n",
       "      <th>0</th>\n",
       "      <td>1</td>\n",
       "      <td>0</td>\n",
       "      <td>1140.0</td>\n",
       "      <td>2</td>\n",
       "      <td>1</td>\n",
       "      <td>1</td>\n",
       "      <td>0</td>\n",
       "      <td>1945.0</td>\n",
       "      <td>1945.0</td>\n",
       "      <td>1</td>\n",
       "      <td>1</td>\n",
       "      <td>1</td>\n",
       "      <td>14375.0</td>\n",
       "      <td>193.0</td>\n",
       "      <td>0.70</td>\n",
       "    </tr>\n",
       "    <tr>\n",
       "      <th>1</th>\n",
       "      <td>2</td>\n",
       "      <td>0</td>\n",
       "      <td>1000.0</td>\n",
       "      <td>2</td>\n",
       "      <td>0</td>\n",
       "      <td>2</td>\n",
       "      <td>0</td>\n",
       "      <td>1981.0</td>\n",
       "      <td>1981.0</td>\n",
       "      <td>1</td>\n",
       "      <td>1</td>\n",
       "      <td>1</td>\n",
       "      <td>5227.0</td>\n",
       "      <td>115.0</td>\n",
       "      <td>0.20</td>\n",
       "    </tr>\n",
       "    <tr>\n",
       "      <th>2</th>\n",
       "      <td>2</td>\n",
       "      <td>0</td>\n",
       "      <td>1710.0</td>\n",
       "      <td>4</td>\n",
       "      <td>0</td>\n",
       "      <td>1</td>\n",
       "      <td>0</td>\n",
       "      <td>1993.0</td>\n",
       "      <td>1993.0</td>\n",
       "      <td>1</td>\n",
       "      <td>1</td>\n",
       "      <td>1</td>\n",
       "      <td>6700.0</td>\n",
       "      <td>188.0</td>\n",
       "      <td>0.20</td>\n",
       "    </tr>\n",
       "    <tr>\n",
       "      <th>3</th>\n",
       "      <td>3</td>\n",
       "      <td>1</td>\n",
       "      <td>2557.0</td>\n",
       "      <td>3</td>\n",
       "      <td>0</td>\n",
       "      <td>1</td>\n",
       "      <td>0</td>\n",
       "      <td>1996.0</td>\n",
       "      <td>2004.0</td>\n",
       "      <td>1</td>\n",
       "      <td>1</td>\n",
       "      <td>1</td>\n",
       "      <td>7712.0</td>\n",
       "      <td>125.0</td>\n",
       "      <td>0.21</td>\n",
       "    </tr>\n",
       "    <tr>\n",
       "      <th>4</th>\n",
       "      <td>5</td>\n",
       "      <td>1</td>\n",
       "      <td>2356.0</td>\n",
       "      <td>4</td>\n",
       "      <td>2</td>\n",
       "      <td>2</td>\n",
       "      <td>0</td>\n",
       "      <td>2018.0</td>\n",
       "      <td>2018.0</td>\n",
       "      <td>1</td>\n",
       "      <td>1</td>\n",
       "      <td>0</td>\n",
       "      <td>2178.0</td>\n",
       "      <td>196.0</td>\n",
       "      <td>2.75</td>\n",
       "    </tr>\n",
       "  </tbody>\n",
       "</table>\n",
       "</div>"
      ],
      "text/plain": [
       "   baths  fireplace    sqft  beds  state  stories  PrivatePool   built  \\\n",
       "0      1          0  1140.0     2      1        1            0  1945.0   \n",
       "1      2          0  1000.0     2      0        2            0  1981.0   \n",
       "2      2          0  1710.0     4      0        1            0  1993.0   \n",
       "3      3          1  2557.0     3      0        1            0  1996.0   \n",
       "4      5          1  2356.0     4      2        2            0  2018.0   \n",
       "\n",
       "   rebuilt  heating  cooling  parking  lotsize  price  distance  \n",
       "0   1945.0        1        1        1  14375.0  193.0      0.70  \n",
       "1   1981.0        1        1        1   5227.0  115.0      0.20  \n",
       "2   1993.0        1        1        1   6700.0  188.0      0.20  \n",
       "3   2004.0        1        1        1   7712.0  125.0      0.21  \n",
       "4   2018.0        1        1        0   2178.0  196.0      2.75  "
      ]
     },
     "execution_count": 28,
     "metadata": {},
     "output_type": "execute_result"
    }
   ],
   "source": [
    "X_test.head()"
   ]
  },
  {
   "cell_type": "code",
   "execution_count": 29,
   "metadata": {},
   "outputs": [
    {
     "data": {
      "text/plain": [
       "array([251856.16056576, 123695.99746346, 316451.71498556, ...,\n",
       "       536951.85406068, 128070.44162028, 316937.52309625])"
      ]
     },
     "execution_count": 29,
     "metadata": {},
     "output_type": "execute_result"
    }
   ],
   "source": [
    "pred"
   ]
  }
 ],
 "metadata": {
  "kernelspec": {
   "display_name": "Python 3",
   "language": "python",
   "name": "python3"
  },
  "language_info": {
   "codemirror_mode": {
    "name": "ipython",
    "version": 3
   },
   "file_extension": ".py",
   "mimetype": "text/x-python",
   "name": "python",
   "nbconvert_exporter": "python",
   "pygments_lexer": "ipython3",
   "version": "3.7.6"
  }
 },
 "nbformat": 4,
 "nbformat_minor": 4
}
